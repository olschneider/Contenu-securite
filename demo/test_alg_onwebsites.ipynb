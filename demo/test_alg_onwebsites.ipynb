{
 "cells": [
  {
   "cell_type": "markdown",
   "metadata": {},
   "source": [
    "# Démo pour \"jouer\" avec les algo de crypto et les certificats utisés par les sites web.\n"
   ]
  },
  {
   "cell_type": "code",
   "execution_count": 60,
   "metadata": {},
   "outputs": [],
   "source": [
    "import socket\n",
    "import struct\n",
    "from cryptography.hazmat.primitives.asymmetric import rsa, padding\n",
    "from cryptography.hazmat.primitives.ciphers.aead import AESGCM\n",
    "from cryptography.hazmat.primitives import hashes\n",
    "from cryptography.x509 import load_der_x509_certificate\n",
    "import ssl"
   ]
  },
  {
   "cell_type": "code",
   "execution_count": 61,
   "metadata": {},
   "outputs": [],
   "source": [
    "HOST = \"www.python.org\"\n",
    "PORT = 443"
   ]
  },
  {
   "cell_type": "markdown",
   "metadata": {},
   "source": [
    "## Étape 1 : Connexion TCP au serveur"
   ]
  },
  {
   "cell_type": "code",
   "execution_count": 62,
   "metadata": {},
   "outputs": [],
   "source": [
    "sock = socket.create_connection((HOST, PORT))"
   ]
  },
  {
   "cell_type": "markdown",
   "metadata": {},
   "source": [
    "## Etape 2: Forger et envoyer le client Hello\n",
    "Le pack |I désigne le byte order ici (Reseau)(Unsigned Int)"
   ]
  },
  {
   "cell_type": "code",
   "execution_count": 63,
   "metadata": {},
   "outputs": [],
   "source": [
    "cipher_suites = [b\"TLS_RSA_WITH_AES_256_GCM_SHA256\", b\"TLS_RSA_WITH_AES_128_GCM_SHA256\"]\n",
    "client_hello = b\"TLS_CLIENT_HELLO\" + b\"\".join(cipher_suites)\n",
    "sock.sendall(struct.pack(\"!I\", len(client_hello)) + client_hello)"
   ]
  },
  {
   "cell_type": "markdown",
   "metadata": {},
   "source": [
    "## Etape 3: Réception du serveur Hello"
   ]
  },
  {
   "cell_type": "code",
   "execution_count": 64,
   "metadata": {},
   "outputs": [
    {
     "name": "stdout",
     "output_type": "stream",
     "text": [
      "ServerHello brut (hex) : 02023215030300020100\n",
      "ServerHello reçu, suite choisie : \u0002\u00022\u0015\u0003\u0003\u0000\u0002\u0001\u0000\n",
      "Détails de la suite de chiffrement : Inconnue\n"
     ]
    }
   ],
   "source": [
    "server_hello_size = struct.unpack(\"!I\", sock.recv(4))[0]\n",
    "server_hello = sock.recv(server_hello_size)\n",
    "selected_cipher_hex = server_hello.hex()  # Affichage brut en hexadécimal\n",
    "print(\"ServerHello brut (hex) :\", selected_cipher_hex)\n",
    "\n",
    "try:\n",
    "    selected_cipher = server_hello.decode('utf-8').strip()\n",
    "except UnicodeDecodeError:\n",
    "    selected_cipher = selected_cipher_hex  # Utilisation de l'hex en cas d'échec\n",
    "print(\"ServerHello reçu, suite choisie :\", selected_cipher)\n",
    "\n",
    "cipher_details = {\n",
    "    \"TLS_RSA_WITH_AES_256_GCM_SHA256\": \"RSA + AES-256-GCM + SHA-256\",\n",
    "    \"TLS_RSA_WITH_AES_128_GCM_SHA256\": \"RSA + AES-128-GCM + SHA-256\"\n",
    "}\n",
    "print(\"Détails de la suite de chiffrement :\", cipher_details.get(selected_cipher, \"Inconnue\"))"
   ]
  }
 ],
 "metadata": {
  "kernelspec": {
   "display_name": ".venv",
   "language": "python",
   "name": "python3"
  },
  "language_info": {
   "codemirror_mode": {
    "name": "ipython",
    "version": 3
   },
   "file_extension": ".py",
   "mimetype": "text/x-python",
   "name": "python",
   "nbconvert_exporter": "python",
   "pygments_lexer": "ipython3",
   "version": "3.10.7"
  }
 },
 "nbformat": 4,
 "nbformat_minor": 2
}
